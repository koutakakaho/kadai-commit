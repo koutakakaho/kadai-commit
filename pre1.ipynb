{
  "nbformat": 4,
  "nbformat_minor": 0,
  "metadata": {
    "colab": {
      "name": "pre1.ipynb",
      "version": "0.3.2",
      "provenance": [],
      "include_colab_link": true
    },
    "language_info": {
      "codemirror_mode": {
        "name": "ipython",
        "version": 3
      },
      "file_extension": ".py",
      "mimetype": "text/x-python",
      "name": "python",
      "nbconvert_exporter": "python",
      "pygments_lexer": "ipython3",
      "version": "3.6.8"
    },
    "kernelspec": {
      "display_name": "Python 3",
      "language": "python",
      "name": "python3"
    }
  },
  "cells": [
    {
      "cell_type": "markdown",
      "metadata": {
        "id": "view-in-github",
        "colab_type": "text"
      },
      "source": [
        "<a href=\"https://colab.research.google.com/github/koutakakaho/kadai-commit/blob/master/pre1.ipynb\" target=\"_parent\"><img src=\"https://colab.research.google.com/assets/colab-badge.svg\" alt=\"Open In Colab\"/></a>"
      ]
    },
    {
      "metadata": {
        "id": "Qqw-c8gX8Nek",
        "colab_type": "text"
      },
      "cell_type": "markdown",
      "source": [
        "# 第1回予習課題\n",
        "\n",
        "## フェルマー数\n",
        "フェルマー数は、$2^{2^{n}}+1$（$n$は非負の整数）で表される自然数です。$n$番目のフェルマー数を$F_n$とすると、フェルマー数は以下のように計算できます。\n",
        "\n",
        "$F_0=2^1+1=3$\n",
        "\n",
        "$F_1=2^2+1=5$\n",
        "\n",
        "$...$\n",
        "\n",
        "$n$を引数で受け取り、 $F_n$の値を返す`fermat_number(n)`という関数を定義してください。以下のセルの `...` のところを書き換えてください。"
      ]
    },
    {
      "metadata": {
        "id": "O3z083_w8Nen",
        "colab_type": "text"
      },
      "cell_type": "markdown",
      "source": [
        "## Fermat number\n",
        "A Fermat number is a positive integer of the form\n",
        "\n",
        "$F_{n}=2^{2^{n}}+1$,\n",
        "\n",
        "where $n$ is a nonnegative integer.\n",
        "\n",
        "Define a function `fermat_number(n)` which takes $n$ as an argument and returns the value of $F_n$."
      ]
    },
    {
      "metadata": {
        "scrolled": true,
        "id": "T_1Zb7YR8Neo",
        "colab_type": "code",
        "colab": {}
      },
      "cell_type": "code",
      "source": [
        "def fermat_number(n):\n",
        "    return (2**(2**n)+1)"
      ],
      "execution_count": 0,
      "outputs": []
    },
    {
      "metadata": {
        "id": "X6mmGeEI8Neu",
        "colab_type": "text"
      },
      "cell_type": "markdown",
      "source": [
        "以下のセルによってテストしてください。\n",
        "\n",
        "Test your function by executing the following cell. "
      ]
    },
    {
      "metadata": {
        "id": "jiBLO9s58New",
        "colab_type": "code",
        "colab": {
          "base_uri": "https://localhost:8080/",
          "height": 104
        },
        "outputId": "87a41091-205d-4885-8bfc-147136733a81"
      },
      "cell_type": "code",
      "source": [
        "print(fermat_number(1) == 5)\n",
        "print(fermat_number(2) == 17)\n",
        "print(fermat_number(3) == 257)\n",
        "print(fermat_number(4) == 65537)\n",
        "print(fermat_number(5) == 4294967297)"
      ],
      "execution_count": 3,
      "outputs": [
        {
          "output_type": "stream",
          "text": [
            "True\n",
            "True\n",
            "True\n",
            "True\n",
            "True\n"
          ],
          "name": "stdout"
        }
      ]
    },
    {
      "metadata": {
        "id": "M31tGTIX8Ne0",
        "colab_type": "text"
      },
      "cell_type": "markdown",
      "source": [
        "## 三角形の成立条件\n",
        "3つの正数$a$, $b$, $c$を3辺の長さとする三角形が存在するための必要十分条件は以下の不等式で表されます。\n",
        "\n",
        "$a<b+c$かつ$b<c+a$かつ$c<a+b$\n",
        "\n",
        "3辺の長さ `a`, `b`, `c` をもらって、3辺が三角形を構成するならば `True`、そうでなければ `False` を返す `istriangle(a,b,c)` という関数を定義してください。\n",
        "\n",
        "以下のセルの `...` のところを書き換えてください。"
      ]
    },
    {
      "metadata": {
        "id": "zcnr1LZc8Ne2",
        "colab_type": "text"
      },
      "cell_type": "markdown",
      "source": [
        "## Triangle inequality\n",
        "The triangle inequality states that the sum of the lengths of any two sides of a triangle with three positive side lengths must be greater than the length of the third side. \n",
        "\n",
        "$a<b+c$, $b<c+a$, $c<a+b$.\n",
        "\n",
        "A triangle with three given positive side lengths exists if and only if those side lengths satisfy the triangle inequality.\n",
        "\n",
        "Define a function `istriangle(a,b,c)`,  which returns `True` if three positive side lengths $a$, $b$, $c$ satisfy the triangle inequality. Otherwise the function should return `False`. "
      ]
    },
    {
      "metadata": {
        "id": "PNTm4ZCH8Ne2",
        "colab_type": "code",
        "colab": {}
      },
      "cell_type": "code",
      "source": [
        "def istriangle(a,b,c):\n",
        "    if (a<b+c) and (b<c+a) and (c<a+b):\n",
        "        return True\n",
        "    else:\n",
        "        return False"
      ],
      "execution_count": 0,
      "outputs": []
    },
    {
      "metadata": {
        "id": "DOJPn7ju8Ne6",
        "colab_type": "text"
      },
      "cell_type": "markdown",
      "source": [
        "以下のセルによってテストしてください。\n",
        "\n",
        "Test your function by executing the following cell."
      ]
    },
    {
      "metadata": {
        "id": "CM5sLSp58Ne7",
        "colab_type": "code",
        "colab": {
          "base_uri": "https://localhost:8080/",
          "height": 87
        },
        "outputId": "c298d8af-006f-4dbe-a8a7-f1a796581457"
      },
      "cell_type": "code",
      "source": [
        "print(istriangle(3,3,3) == True)\n",
        "print(istriangle(3,4,5) == True)\n",
        "print(istriangle(1,2,3) == False)\n",
        "print(istriangle(1,1,2) == False)"
      ],
      "execution_count": 6,
      "outputs": [
        {
          "output_type": "stream",
          "text": [
            "True\n",
            "True\n",
            "True\n",
            "True\n"
          ],
          "name": "stdout"
        }
      ]
    },
    {
      "metadata": {
        "id": "n0IsDP1_9I_8",
        "colab_type": "code",
        "colab": {}
      },
      "cell_type": "code",
      "source": [
        "def trial(n):\n",
        "    for i in range(n):\n",
        "        print(n)\n",
        "        "
      ],
      "execution_count": 0,
      "outputs": []
    }
  ]
}